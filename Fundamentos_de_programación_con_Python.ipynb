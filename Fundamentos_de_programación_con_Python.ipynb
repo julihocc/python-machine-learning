{
  "nbformat": 4,
  "nbformat_minor": 0,
  "metadata": {
    "colab": {
      "provenance": [],
      "authorship_tag": "ABX9TyMN6S8+qnT903vtBbnXofgS",
      "include_colab_link": true
    },
    "kernelspec": {
      "name": "python3",
      "display_name": "Python 3"
    },
    "language_info": {
      "name": "python"
    }
  },
  "cells": [
    {
      "cell_type": "markdown",
      "metadata": {
        "id": "view-in-github",
        "colab_type": "text"
      },
      "source": [
        "<a href=\"https://colab.research.google.com/github/julihocc/python-machine-learning/blob/main/Fundamentos_de_programaci%C3%B3n_con_Python.ipynb\" target=\"_parent\"><img src=\"https://colab.research.google.com/assets/colab-badge.svg\" alt=\"Open In Colab\"/></a>"
      ]
    },
    {
      "cell_type": "markdown",
      "source": [
        "# Fundamentos de programación con Python\n"
      ],
      "metadata": {
        "id": "WKWrUKuDKJ5h"
      }
    },
    {
      "cell_type": "markdown",
      "source": [
        "\n",
        "## Capitulo 1\n",
        "Hoy aprenderás a utilizar una libreta Jupyter. Comenzaremos por entender que es Markdown."
      ],
      "metadata": {
        "id": "YDijSuALJQZD"
      }
    },
    {
      "cell_type": "code",
      "execution_count": null,
      "metadata": {
        "colab": {
          "base_uri": "https://localhost:8080/"
        },
        "id": "yfxaE-StIYe6",
        "outputId": "efaa970c-0235-41cc-dcf1-d2f612ece27f"
      },
      "outputs": [
        {
          "output_type": "stream",
          "name": "stdout",
          "text": [
            "2\n"
          ]
        }
      ],
      "source": [
        "# Nuestra primer tarea será sumar dos números\n",
        "# e imprimirlos en la consola\n",
        "print(1+1)"
      ]
    },
    {
      "cell_type": "code",
      "source": [
        "# Para imprimir texto, necesitamos comillas dobles o sencillas\n",
        "print(\"¡Hola, mundo!\")\n",
        "print('Hola de nuevo')"
      ],
      "metadata": {
        "colab": {
          "base_uri": "https://localhost:8080/"
        },
        "id": "UOCaWaN8I13D",
        "outputId": "7f3153b1-508f-401e-a7a6-5ca131d3750d"
      },
      "execution_count": null,
      "outputs": [
        {
          "output_type": "stream",
          "name": "stdout",
          "text": [
            "¡Hola, mundo!\n",
            "Hola de nuevo\n"
          ]
        }
      ]
    },
    {
      "cell_type": "markdown",
      "source": [
        "## Capítulo 2"
      ],
      "metadata": {
        "id": "PVcuYvciJ6gs"
      }
    },
    {
      "cell_type": "code",
      "source": [
        "n = 2\n",
        "print(n)\n",
        "print(type(n))\n"
      ],
      "metadata": {
        "colab": {
          "base_uri": "https://localhost:8080/"
        },
        "id": "n_pzsRppJ81x",
        "outputId": "d0831ada-1bab-4bcd-94d2-1737d11b96e9"
      },
      "execution_count": null,
      "outputs": [
        {
          "output_type": "stream",
          "name": "stdout",
          "text": [
            "2\n",
            "<class 'int'>\n"
          ]
        }
      ]
    },
    {
      "cell_type": "code",
      "source": [
        "\n",
        "x = 1.9999999999999999999999999999999999999999999999999999999999999999999999999999999999999999999999999999999999999999999999999999999999999999999999999999999999999\n",
        "print(x)\n",
        "print(type(x))\n"
      ],
      "metadata": {
        "colab": {
          "base_uri": "https://localhost:8080/"
        },
        "id": "jjGosaw4Kl2D",
        "outputId": "3bd74e97-2811-494d-a241-47d3054bba54"
      },
      "execution_count": null,
      "outputs": [
        {
          "output_type": "stream",
          "name": "stdout",
          "text": [
            "2.0\n",
            "<class 'float'>\n"
          ]
        }
      ]
    },
    {
      "cell_type": "code",
      "source": [
        "\n",
        "print(n==x)\n"
      ],
      "metadata": {
        "colab": {
          "base_uri": "https://localhost:8080/"
        },
        "id": "Dar8551yKov7",
        "outputId": "20b7fa18-ff30-464c-c551-24d8fd6d7366"
      },
      "execution_count": null,
      "outputs": [
        {
          "output_type": "stream",
          "name": "stdout",
          "text": [
            "True\n"
          ]
        }
      ]
    },
    {
      "cell_type": "code",
      "source": [
        "\n",
        "s = \"2\"\n",
        "print(s)\n",
        "print(type(s))\n",
        "\n",
        "print(s==n)\n",
        "\n",
        "s_int = int(s)\n",
        "print(s_int)\n",
        "print(type(s_int))\n",
        "\n",
        "print(s_int==n)\n"
      ],
      "metadata": {
        "colab": {
          "base_uri": "https://localhost:8080/"
        },
        "id": "QB_lQVDYKq3f",
        "outputId": "f179ff0d-5ce4-4fe6-ee53-0b86e42f1003"
      },
      "execution_count": null,
      "outputs": [
        {
          "output_type": "stream",
          "name": "stdout",
          "text": [
            "2\n",
            "<class 'str'>\n",
            "False\n",
            "2\n",
            "<class 'int'>\n",
            "True\n"
          ]
        }
      ]
    },
    {
      "cell_type": "code",
      "source": [
        "\n",
        "print(True, type(True))\n",
        "print(False, type(False))\n",
        "\n",
        "print(2>1)\n",
        "print(2==1)\n",
        "print(2!=1)\n",
        "print(2<1)\n",
        "print(2>=1)\n",
        "print(2<=1)\n",
        "\n",
        "print(int(True))\n",
        "print(int(False))\n",
        "\n",
        "print(True+True)"
      ],
      "metadata": {
        "colab": {
          "base_uri": "https://localhost:8080/"
        },
        "id": "TyyZwjMjKt50",
        "outputId": "9db41141-00b7-4abe-ef1c-413a886e00ba"
      },
      "execution_count": null,
      "outputs": [
        {
          "output_type": "stream",
          "name": "stdout",
          "text": [
            "True <class 'bool'>\n",
            "False <class 'bool'>\n",
            "True\n",
            "False\n",
            "True\n",
            "False\n",
            "True\n",
            "False\n",
            "1\n",
            "0\n",
            "2\n"
          ]
        }
      ]
    },
    {
      "cell_type": "code",
      "source": [
        "x = 1\n",
        "y = 2\n",
        "print(x)\n",
        "y"
      ],
      "metadata": {
        "colab": {
          "base_uri": "https://localhost:8080/"
        },
        "id": "1CKub5BCMlzL",
        "outputId": "dc1d1b59-f043-4550-c222-5947382dc971"
      },
      "execution_count": null,
      "outputs": [
        {
          "output_type": "stream",
          "name": "stdout",
          "text": [
            "1\n"
          ]
        },
        {
          "output_type": "execute_result",
          "data": {
            "text/plain": [
              "2"
            ]
          },
          "metadata": {},
          "execution_count": 71
        }
      ]
    }
  ]
}