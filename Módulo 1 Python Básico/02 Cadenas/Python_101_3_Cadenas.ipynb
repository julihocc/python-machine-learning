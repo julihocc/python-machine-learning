{
 "cells": [
  {
   "cell_type": "markdown",
   "metadata": {
    "colab_type": "text",
    "id": "n38Xbzg96slT"
   },
   "source": [
    "# Python 101\n",
    "## Cadenas de caracteres \n"
   ]
  },
  {
   "cell_type": "markdown",
   "metadata": {
    "colab_type": "text",
    "id": "ieYFGxiA62qG"
   },
   "source": [
    "En este capítulo aprenderemos a manipular textos con Python, que tienen el nombre técnico de *cadenas de caractéres* o **strings** en inglés, por lo que serán del tipo `str`."
   ]
  },
  {
   "cell_type": "code",
   "execution_count": null,
   "metadata": {
    "colab": {
     "base_uri": "https://localhost:8080/",
     "height": 53
    },
    "colab_type": "code",
    "id": "tFKh-nzt61jA",
    "outputId": "f905e742-d3de-4196-8e6c-e23f9e72cf5d"
   },
   "outputs": [
    {
     "name": "stdout",
     "output_type": "stream",
     "text": [
      "Hola mundo!\n",
      "<class 'str'>\n"
     ]
    }
   ],
   "source": [
    "# Ejemplo\n",
    "texto = \"Hola mundo!\"\n",
    "print(texto)\n",
    "print(type(texto))"
   ]
  },
  {
   "cell_type": "markdown",
   "metadata": {
    "colab_type": "text",
    "id": "iUz3PjJz7kVI"
   },
   "source": [
    "Podemos pedirle al usuario que ingrese datos a nuestro programas, y estos se guardarán en forma de cadenas."
   ]
  },
  {
   "cell_type": "code",
   "execution_count": null,
   "metadata": {
    "colab": {
     "base_uri": "https://localhost:8080/",
     "height": 71
    },
    "colab_type": "code",
    "id": "vUmxAcar7Seh",
    "outputId": "34e51850-f882-45c4-edbc-908c030c9c70"
   },
   "outputs": [
    {
     "name": "stdout",
     "output_type": "stream",
     "text": [
      "Ingresa un número: 2019\n",
      "2019\n",
      "<class 'str'>\n"
     ]
    }
   ],
   "source": [
    "numero = input(\"Ingresa un número: \")\n",
    "print(numero)\n",
    "print(type(numero))"
   ]
  },
  {
   "cell_type": "markdown",
   "metadata": {
    "colab_type": "text",
    "id": "sdZebqk99FZ5"
   },
   "source": [
    "Sin embargo, al usar esta información, es probable que necesitemos convertir entre diferentes tipos:"
   ]
  },
  {
   "cell_type": "code",
   "execution_count": null,
   "metadata": {
    "colab": {
     "base_uri": "https://localhost:8080/",
     "height": 89
    },
    "colab_type": "code",
    "id": "yL0j2QpI8mBE",
    "outputId": "0a602732-c6a6-4b46-b77f-5ee51452f800"
   },
   "outputs": [
    {
     "name": "stdout",
     "output_type": "stream",
     "text": [
      "Ingresa un número: 2019\n",
      "Imposible sumar una cadena con un número!!!\n",
      "Ingresa un número: 2019\n",
      "2029.0\n"
     ]
    }
   ],
   "source": [
    "try:\n",
    "  num = input(\"Ingresa un número: \")\n",
    "  resultado = num+10\n",
    "  print(resultado)\n",
    "except: \n",
    "  print(\"Imposible sumar una cadena con un número!!!\")\n",
    "  num = input(\"Ingresa un número: \")\n",
    "  num = float(num)\n",
    "  resultado = num+10\n",
    "  print(resultado)"
   ]
  },
  {
   "cell_type": "code",
   "execution_count": null,
   "metadata": {
    "colab": {},
    "colab_type": "code",
    "id": "ZVppwJEP9jVb"
   },
   "outputs": [],
   "source": []
  },
  {
   "cell_type": "markdown",
   "metadata": {
    "colab_type": "text",
    "id": "pdIQKfO5C3q8"
   },
   "source": [
    "### Cadenas en líneas múltiples\n",
    "\n",
    "Para ingesar múltiples líneas de caractéres, podemos usar el *caracter especial* `\\n`, para un salto de línea o encapsulando en texto en comillas triples:"
   ]
  },
  {
   "cell_type": "code",
   "execution_count": null,
   "metadata": {
    "colab": {
     "base_uri": "https://localhost:8080/",
     "height": 71
    },
    "colab_type": "code",
    "id": "Y-2XpB4RDJHa",
    "outputId": "9a3ec18d-1e2a-4c67-9688-b28d32f2ec45"
   },
   "outputs": [
    {
     "name": "stdout",
     "output_type": "stream",
     "text": [
      "Hola a todos!\n",
      "Mi nombre es Fulanito\n",
      "Vivo en México.\n"
     ]
    }
   ],
   "source": [
    "# Caracter especial \\n\n",
    "mi_texto = \"Hola a todos!\\nMi nombre es Fulanito\\nVivo en México.\"\n",
    "print(mi_texto)"
   ]
  },
  {
   "cell_type": "code",
   "execution_count": null,
   "metadata": {
    "colab": {
     "base_uri": "https://localhost:8080/",
     "height": 71
    },
    "colab_type": "code",
    "id": "CwC8cq20DWlE",
    "outputId": "7b55b046-0f63-4189-e1d1-d5785ad0b91a"
   },
   "outputs": [
    {
     "name": "stdout",
     "output_type": "stream",
     "text": [
      "Hola a todos!\n",
      "Mi nombre es Fulanito.\n",
      "Vivo en México\n"
     ]
    }
   ],
   "source": [
    "#Comillas triples\n",
    "otro_texto=\"\"\"Hola a todos!\n",
    "Mi nombre es Fulanito.\n",
    "Vivo en México\"\"\"\n",
    "print(otro_texto)"
   ]
  },
  {
   "cell_type": "markdown",
   "metadata": {
    "colab_type": "text",
    "id": "ALP7U5CxD0kk"
   },
   "source": [
    "### Método en cadenas de caractéres\n",
    "\n",
    "Existen multiples funciones que podemos aplicar a la clase de las cadenas de caractéres. A las funciones que son propias sólo de esta clase, se le conoce como *métodos*; las vamos a aplicar con un punto después del nombre de la variable y cerrando con paréntesis, incluso vacios si no hay argumentos: `variable.método()`"
   ]
  },
  {
   "cell_type": "code",
   "execution_count": 19,
   "metadata": {
    "colab": {},
    "colab_type": "code",
    "id": "0S8zaxgIDtgJ"
   },
   "outputs": [],
   "source": [
    "#Definamos una cadena\n",
    "frase = \"primero tienes que aprender las reglas del juego, y después jugar mejor que nadie\""
   ]
  },
  {
   "cell_type": "code",
   "execution_count": 20,
   "metadata": {
    "colab": {
     "base_uri": "https://localhost:8080/",
     "height": 35
    },
    "colab_type": "code",
    "id": "dbE_dEFtE0td",
    "outputId": "f9f3f027-13ce-480e-8f78-0bececec28da"
   },
   "outputs": [
    {
     "name": "stdout",
     "output_type": "stream",
     "text": [
      "81\n"
     ]
    }
   ],
   "source": [
    "#Longitud de la cadena\n",
    "print(len(frase))"
   ]
  },
  {
   "cell_type": "code",
   "execution_count": 21,
   "metadata": {
    "colab": {
     "base_uri": "https://localhost:8080/",
     "height": 35
    },
    "colab_type": "code",
    "id": "qJXH6zwVE3tg",
    "outputId": "1312eaae-4dd8-46f2-f090-77dbdcc18f08"
   },
   "outputs": [
    {
     "name": "stdout",
     "output_type": "stream",
     "text": [
      "PRIMERO TIENES QUE APRENDER LAS REGLAS DEL JUEGO, Y DESPUÉS JUGAR MEJOR QUE NADIE\n"
     ]
    }
   ],
   "source": [
    "print(frase.upper())"
   ]
  },
  {
   "cell_type": "code",
   "execution_count": 22,
   "metadata": {
    "colab": {
     "base_uri": "https://localhost:8080/",
     "height": 35
    },
    "colab_type": "code",
    "id": "iZOd1oM5E-Zj",
    "outputId": "20030f5e-28a7-4521-d616-ca53c684a043"
   },
   "outputs": [
    {
     "name": "stdout",
     "output_type": "stream",
     "text": [
      "Primero tienes que aprender las reglas del juego, y después jugar mejor que nadie\n"
     ]
    }
   ],
   "source": [
    "#Convertir a mayúscula la primera letra\n",
    "print(frase.capitalize())"
   ]
  },
  {
   "cell_type": "code",
   "execution_count": 23,
   "metadata": {
    "colab": {
     "base_uri": "https://localhost:8080/",
     "height": 35
    },
    "colab_type": "code",
    "id": "rfjC7sqsFYfJ",
    "outputId": "a354eecb-b007-4614-d59f-6add309833a8"
   },
   "outputs": [
    {
     "name": "stdout",
     "output_type": "stream",
     "text": [
      "primero tienes que aprender las reglas del juego, y después jugar mejor que nadie\n"
     ]
    }
   ],
   "source": [
    "#Convertir a minúsculas\n",
    "print(frase.lower())"
   ]
  },
  {
   "cell_type": "code",
   "execution_count": 24,
   "metadata": {
    "colab": {
     "base_uri": "https://localhost:8080/",
     "height": 35
    },
    "colab_type": "code",
    "id": "NoABlvSTFfZK",
    "outputId": "b3aa61e7-20df-49ff-d263-c41119b437b4"
   },
   "outputs": [
    {
     "name": "stdout",
     "output_type": "stream",
     "text": [
      "Primero Tienes Que Aprender Las Reglas Del Juego, Y Después Jugar Mejor Que Nadie\n"
     ]
    }
   ],
   "source": [
    "#Convertir a mayúsculas la primera letra de cada palabra\n",
    "print(frase.title())"
   ]
  },
  {
   "cell_type": "markdown",
   "metadata": {
    "colab_type": "text",
    "id": "4LMtIl0IFxi0"
   },
   "source": [
    "Como aprendimos en la primera lección, podemos unir dos cadenas de caractéres, usando el operador `+`:"
   ]
  },
  {
   "cell_type": "code",
   "execution_count": 25,
   "metadata": {
    "colab": {
     "base_uri": "https://localhost:8080/",
     "height": 35
    },
    "colab_type": "code",
    "id": "GX0k8v0nFvYm",
    "outputId": "56a4b99e-f36e-42e5-ba75-ef652da7767e"
   },
   "outputs": [
    {
     "name": "stdout",
     "output_type": "stream",
     "text": [
      "Primero tienes que aprender las reglas del juego, y después jugar mejor que nadieAlbert Einstein\n"
     ]
    }
   ],
   "source": [
    "autor = \"albert einstein\"\n",
    "print(frase.capitalize()+autor.title())"
   ]
  },
  {
   "cell_type": "markdown",
   "metadata": {
    "colab_type": "text",
    "id": "IZLwChrQGQS3"
   },
   "source": [
    "En el ejemplo anterior, sería mejor agregar comillas y espacio, pero como vimos, las comillas se utlizan para definir una cadena de caracteres, por lo que `\"\"\"\"` no producirá un imprimirá un par de comillas. Para eso utilizaremos el caracter especial `\\\"`:"
   ]
  },
  {
   "cell_type": "code",
   "execution_count": 26,
   "metadata": {
    "colab": {
     "base_uri": "https://localhost:8080/",
     "height": 53
    },
    "colab_type": "code",
    "id": "BmhfSL0TGLwp",
    "outputId": "63476f09-cfa3-4ffb-9530-9dbaf61f7849"
   },
   "outputs": [
    {
     "name": "stdout",
     "output_type": "stream",
     "text": [
      "\"Inserte aquí su frase\" \n",
      " Autor\n"
     ]
    }
   ],
   "source": [
    "print(\"\\\"Inserte aquí su frase\\\" \\n Autor\")"
   ]
  },
  {
   "cell_type": "code",
   "execution_count": 27,
   "metadata": {
    "colab": {
     "base_uri": "https://localhost:8080/",
     "height": 53
    },
    "colab_type": "code",
    "id": "OzgS5PXoGrTc",
    "outputId": "c5e7fb43-171e-4829-c69d-141d4b16a698"
   },
   "outputs": [
    {
     "name": "stdout",
     "output_type": "stream",
     "text": [
      "\"Primero tienes que aprender las reglas del juego, y después jugar mejor que nadie\"\n",
      "Albert Einstein\n"
     ]
    }
   ],
   "source": [
    "#Mejoremos la impresión de nuestra frase celebre\n",
    "print(\"\\\"\"+frase.capitalize()+\"\\\"\\n\"+autor.title())"
   ]
  },
  {
   "cell_type": "markdown",
   "metadata": {
    "colab_type": "text",
    "id": "mOgOC9ctIPVD"
   },
   "source": [
    "Existen otros métodos, que resultan útiles en contextos determinados. A continuación, veremos un par de ejemplos:"
   ]
  },
  {
   "cell_type": "code",
   "execution_count": 28,
   "metadata": {
    "colab": {
     "base_uri": "https://localhost:8080/",
     "height": 35
    },
    "colab_type": "code",
    "id": "UEo5RvcUHEem",
    "outputId": "5375851e-f8e9-41d9-f143-ab4f68b3d83d"
   },
   "outputs": [
    {
     "name": "stdout",
     "output_type": "stream",
     "text": [
      "['primero', 'tienes', 'que', 'aprender', 'las', 'reglas', 'del', 'juego,', 'y', 'después', 'jugar', 'mejor', 'que', 'nadie']\n"
     ]
    }
   ],
   "source": [
    "#Separar una palabra utilizando una marca (caracter que separará palabras)\n",
    "#Si el marcador es un espacio en blanco, tendremos una lista de palabras\n",
    "print(frase.split(\" \"))"
   ]
  },
  {
   "cell_type": "code",
   "execution_count": 29,
   "metadata": {
    "colab": {
     "base_uri": "https://localhost:8080/",
     "height": 35
    },
    "colab_type": "code",
    "id": "AOVZ24iTKFQ7",
    "outputId": "5b5b0015-2cc4-44cb-aeee-feb89112cf94"
   },
   "outputs": [
    {
     "name": "stdout",
     "output_type": "stream",
     "text": [
      "primero tienes que aprender las reglas del juego y después jugar mejor que nadie\n"
     ]
    }
   ],
   "source": [
    "#También podemos reemplazar caracteres\n",
    "print(frase.replace(\",\",\"\"))"
   ]
  },
  {
   "cell_type": "code",
   "execution_count": 30,
   "metadata": {
    "colab": {
     "base_uri": "https://localhost:8080/",
     "height": 35
    },
    "colab_type": "code",
    "id": "lIBHmPQcKRDE",
    "outputId": "0c9094d5-1016-4e54-ae46-5ebdcc4b124c"
   },
   "outputs": [
    {
     "name": "stdout",
     "output_type": "stream",
     "text": [
      "['primero', 'tienes', 'que', 'aprender', 'las', 'reglas', 'del', 'juego', 'y', 'después', 'jugar', 'mejor', 'que', 'nadie']\n"
     ]
    }
   ],
   "source": [
    "#Concatenando métodos, podemos deshacernos de los signos de puntuación en las palabras\n",
    "#Por ejemplo, en la palabra 'juego,'\n",
    "print(frase.replace(\",\",\"\").split(\" \"))"
   ]
  },
  {
   "cell_type": "markdown",
   "metadata": {
    "colab_type": "text",
    "id": "Szw2bMycKvBm"
   },
   "source": [
    "Observa que no es lo mismo el caracter espacio en blanco `\" \"` que la cadena vacía `\"\"` "
   ]
  },
  {
   "cell_type": "code",
   "execution_count": 31,
   "metadata": {
    "colab": {
     "base_uri": "https://localhost:8080/",
     "height": 35
    },
    "colab_type": "code",
    "id": "zXMsKLkUKq3j",
    "outputId": "f71df1f1-b462-4f06-e310-a6320fd28274"
   },
   "outputs": [
    {
     "name": "stdout",
     "output_type": "stream",
     "text": [
      "['primero', 'tienes', 'que', 'aprender', 'las', 'reglas', 'del', 'juego', '', 'y', 'después', 'jugar', 'mejor', 'que', 'nadie']\n"
     ]
    }
   ],
   "source": [
    "# Si reemplezamos ',' con un ' ', el espacio en blanco aparecerá como una palabra\n",
    "palabras = frase.replace(\",\",\" \").split(\" \")\n",
    "print(palabras)"
   ]
  },
  {
   "cell_type": "code",
   "execution_count": 32,
   "metadata": {
    "colab": {
     "base_uri": "https://localhost:8080/",
     "height": 35
    },
    "colab_type": "code",
    "id": "mHdN0mHTkkHf",
    "outputId": "b3616098-d4c6-4926-ed6c-ac4cd1b832b1"
   },
   "outputs": [
    {
     "name": "stdout",
     "output_type": "stream",
     "text": [
      "primero\n"
     ]
    }
   ],
   "source": [
    "# Podemos acceder a la palabra en la i-ésima posición con la siguiente sintaxis:\n",
    "# lista[índice]\n",
    "# Recuerda que el primer índice es cero\n",
    "print(palabras[0])"
   ]
  },
  {
   "cell_type": "code",
   "execution_count": 33,
   "metadata": {
    "colab": {
     "base_uri": "https://localhost:8080/",
     "height": 53
    },
    "colab_type": "code",
    "id": "lV8pwxclHQXK",
    "outputId": "daa7372f-ba8f-4e38-ca64-9ae7300cc0e6"
   },
   "outputs": [
    {
     "name": "stdout",
     "output_type": "stream",
     "text": [
      "         mi frase    \n",
      "mi frase\n"
     ]
    }
   ],
   "source": [
    "# Podemos remover caractéres al inicio y final de la frase\n",
    "# Esto es especialmente util con espacio en blanco\n",
    "una_frase_con_muchos_espacios = \"         mi frase    \"\n",
    "print(una_frase_con_muchos_espacios)\n",
    "print(una_frase_con_muchos_espacios.strip(\" \"))"
   ]
  },
  {
   "cell_type": "markdown",
   "metadata": {
    "colab_type": "text",
    "id": "5AS18tKcOiPs"
   },
   "source": [
    "Una última característica que mencionaremos es que los caracteres en una cadena están *indexados*, comenzando con el índice cero. Podemos acceder a estos con la siguiente sintaxis: `cadena[primer_indice:ultimo_indice+1]`"
   ]
  },
  {
   "cell_type": "code",
   "execution_count": 34,
   "metadata": {
    "colab": {
     "base_uri": "https://localhost:8080/",
     "height": 35
    },
    "colab_type": "code",
    "id": "rRNfPGV2JtRI",
    "outputId": "6946ad7b-5401-4ae9-c79d-b63f0129b529"
   },
   "outputs": [
    {
     "name": "stdout",
     "output_type": "stream",
     "text": [
      "primero\n"
     ]
    }
   ],
   "source": [
    "#accederemos a los primeros 6 caracterese de nuestra frase\n",
    "#que formarán la primera palabra\n",
    "print(frase[0:6+1])"
   ]
  },
  {
   "cell_type": "code",
   "execution_count": 35,
   "metadata": {
    "colab": {
     "base_uri": "https://localhost:8080/",
     "height": 35
    },
    "colab_type": "code",
    "id": "KQCtNw9fPKsu",
    "outputId": "13ca09d5-3b1b-4201-f4f6-8602434cd69e"
   },
   "outputs": [
    {
     "name": "stdout",
     "output_type": "stream",
     "text": [
      "primero\n"
     ]
    }
   ],
   "source": [
    "#si el primer índice es cero, podemos omitirlo\n",
    "print(frase[:7])"
   ]
  },
  {
   "cell_type": "code",
   "execution_count": 36,
   "metadata": {
    "colab": {
     "base_uri": "https://localhost:8080/",
     "height": 35
    },
    "colab_type": "code",
    "id": "SiPjVl9TPQKr",
    "outputId": "36221c0f-9f97-4f39-f5ad-de9f7ddc04b5"
   },
   "outputs": [
    {
     "name": "stdout",
     "output_type": "stream",
     "text": [
      "tienes\n"
     ]
    }
   ],
   "source": [
    "#accedemos a la siguiente palabra 'tienes'\n",
    "#la letra 't' está en la posición 8\n",
    "#mientras que 's' está en la posición 13\n",
    "print(frase[8:13+1])"
   ]
  },
  {
   "cell_type": "markdown",
   "metadata": {
    "colab_type": "text",
    "id": "XacObzxJbZga"
   },
   "source": [
    "**¡Es hora de practicar!** Acompañanos a la hoja de ejercicios, para desarrollar tus habilidades."
   ]
  }
 ],
 "metadata": {
  "colab": {
   "name": "Python 101-3 Cadenas.ipynb",
   "provenance": [],
   "version": "0.3.2"
  },
  "kernelspec": {
   "display_name": "Python 3",
   "language": "python",
   "name": "python3"
  },
  "language_info": {
   "codemirror_mode": {
    "name": "ipython",
    "version": 3
   },
   "file_extension": ".py",
   "mimetype": "text/x-python",
   "name": "python",
   "nbconvert_exporter": "python",
   "pygments_lexer": "ipython3",
   "version": "3.12.5"
  }
 },
 "nbformat": 4,
 "nbformat_minor": 1
}
